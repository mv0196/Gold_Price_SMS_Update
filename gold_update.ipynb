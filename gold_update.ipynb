{
 "cells": [
  {
   "cell_type": "code",
   "execution_count": 1,
   "metadata": {},
   "outputs": [],
   "source": [
    "import json\n",
    "import requests\n",
    "import bs4\n",
    "import re\n",
    "from datetime import datetime as dt\n",
    "import time"
   ]
  },
  {
   "cell_type": "code",
   "execution_count": 2,
   "metadata": {},
   "outputs": [],
   "source": [
    "url_gold='https://www.ndtv.com/business/commodity/gold-price_gold'\n",
    "url_silver='https://www.ndtv.com/business/commodity/silver-price_silver'"
   ]
  },
  {
   "cell_type": "code",
   "execution_count": null,
   "metadata": {},
   "outputs": [],
   "source": [
    "auth_key=input(\"Enter the authentication key:\")\n",
    "no=input(\"Enter the contact number:\")#numbers separated by , on which message is to be sent"
   ]
  },
  {
   "cell_type": "code",
   "execution_count": 3,
   "metadata": {},
   "outputs": [],
   "source": [
    "def send_sms(url_gold,url_silver,no):\n",
    "    res_g=requests.get(url_gold)\n",
    "\n",
    "    s_g=bs4.BeautifulSoup(res_g.text,'html')\n",
    "    mydivs_g = s_g.findAll(\"td\", {\"class\": \"txt-right\"})\n",
    "\n",
    "    mydiv_g=str(mydivs_g)\n",
    "    \n",
    "    match_g=re.search('>(.+)<',mydiv_g)\n",
    "    price_g=match_g.group(1)\n",
    "\n",
    "    \n",
    "    \n",
    "    res_s=requests.get(url_silver)\n",
    "\n",
    "    s_s=bs4.BeautifulSoup(res_s.text,'html')\n",
    "    mydivs_s = s_s.findAll(\"td\", {\"class\": \"txt-right\"})\n",
    "\n",
    "    mydiv_s=str(mydivs_s)\n",
    "    \n",
    "    match_s=re.search('>(.+)<',mydiv_s)\n",
    "    price_s=match_s.group(1)\n",
    "\n",
    "    \n",
    "    \n",
    "    msg='Current Gold(MCX) price at time '+str(dt.now().hour)+':'+str(dt.now().minute)+' is: Rs.'+price_g+'/- per 10gm'+' and Current Silver(MCX) price is: Rs.'+price_s+'/- per 1kg'\n",
    "    \n",
    "    api_url_gold_base = 'https://www.fast2sms.com/dev/bulk?authorization='+auth_key+'&sender_id=FSTSMS&message='+msg+'&language=english&route=p&numbers='+no#+'&flash=1'\n",
    "    \n",
    "\n",
    "    response = requests.get(api_url_gold_base)\n",
    "    print(response.status_code)\n",
    "    if response.status_code == 200:\n",
    "        return json.loads(response.content.decode('utf-8'))\n",
    "    else:\n",
    "        return None"
   ]
  },
  {
   "cell_type": "code",
   "execution_count": null,
   "metadata": {},
   "outputs": [],
   "source": [
    "while True:\n",
    "    if dt(dt.now().year,dt.now().month,dt.now().day,10)<dt.now()<dt(dt.now().year,dt.now().month,dt.now().day,23) and dt.now().weekday()!=5 and dt.now().weekday()!=6:\n",
    "        sms = send_sms(url_gold)\n",
    "        time.sleep(3600)\n",
    "        "
   ]
  },
  {
   "cell_type": "code",
   "execution_count": null,
   "metadata": {},
   "outputs": [],
   "source": []
  }
 ],
 "metadata": {
  "kernelspec": {
   "display_name": "Python 3",
   "language": "python",
   "name": "python3"
  },
  "language_info": {
   "codemirror_mode": {
    "name": "ipython",
    "version": 3
   },
   "file_extension": ".py",
   "mimetype": "text/x-python",
   "name": "python",
   "nbconvert_exporter": "python",
   "pygments_lexer": "ipython3",
   "version": "3.6.5"
  }
 },
 "nbformat": 4,
 "nbformat_minor": 2
}
